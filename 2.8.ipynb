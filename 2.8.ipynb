{
 "cells": [
  {
   "cell_type": "code",
   "execution_count": 1,
   "id": "85f4cbc7-e5de-4970-8f5f-39082fe965ba",
   "metadata": {},
   "outputs": [],
   "source": [
    "import pandas as pd\n",
    "from sklearn.model_selection import train_test_split\n",
    "import numpy as np\n",
    "# import datasets\n",
    "# from datasets import load_metric\n",
    "from sklearn.metrics import accuracy_score\n",
    "import torch"
   ]
  },
  {
   "cell_type": "markdown",
   "id": "2fe4d2d2-bb7d-4c72-a191-7a5855605a7f",
   "metadata": {},
   "source": [
    "# 1. 读取文件"
   ]
  },
  {
   "cell_type": "code",
   "execution_count": 3,
   "id": "c49798c9-6e63-4e41-92f4-4765d0c9fee5",
   "metadata": {},
   "outputs": [],
   "source": [
    "file_name='情感分析3.0.txt'\n",
    "\n",
    "data = []\n",
    "with open(file_name, 'r', encoding='gb18030') as f:\n",
    "    lines = f.readlines()\n",
    "    for i in range(0, len(lines), 2):\n",
    "        text = lines[i].strip()\n",
    "        sentiment = int(lines[i + 1].strip())\n",
    "        if sentiment == -1:\n",
    "            sentiment = 0\n",
    "        data.append({'text': text, 'sentiment': sentiment})\n",
    "df = pd.DataFrame(data)\n",
    "# 将数据集拆分为训练集和验证集\n",
    "train_df, val_df = train_test_split(df, test_size=0.2, random_state=42)"
   ]
  },
  {
   "cell_type": "markdown",
   "id": "c5ec74a8-bced-4be6-a5d3-236d89930e6b",
   "metadata": {},
   "source": [
    "# 2.准备库 划分训练集和验证集\n"
   ]
  },
  {
   "cell_type": "code",
   "execution_count": 6,
   "id": "8fa2a6b1-50c2-43cd-9288-1cac8d42bac7",
   "metadata": {
    "tags": []
   },
   "outputs": [],
   "source": [
    "from transformers import DistilBertTokenizerFast\n",
    "\n",
    "tokenizer = DistilBertTokenizerFast.from_pretrained('distilbert-base-uncased')\n",
    "\n",
    "\n",
    "train_encodings = tokenizer(train_df['text'].tolist(), truncation=True, padding=True)\n",
    "val_encodings = tokenizer(val_df['text'].tolist(), truncation=True, padding=True)\n"
   ]
  },
  {
   "cell_type": "code",
   "execution_count": 7,
   "id": "6eb6cb35-42fe-4147-b972-08b729506915",
   "metadata": {},
   "outputs": [],
   "source": [
    "\n",
    "\n",
    "class SentimentDataset(torch.utils.data.Dataset):\n",
    "    def __init__(self, encodings, labels):\n",
    "        self.encodings = encodings\n",
    "        self.labels = labels\n",
    "\n",
    "    def __getitem__(self, idx):\n",
    "        item = {key: torch.tensor(val[idx]) for key, val in self.encodings.items()}\n",
    "        item['labels'] = torch.tensor(self.labels[idx])\n",
    "        return item\n",
    "\n",
    "    def __len__(self):\n",
    "        return len(self.labels)\n",
    "\n",
    "train_dataset = SentimentDataset(train_encodings, train_df['sentiment'].tolist())\n",
    "val_dataset = SentimentDataset(val_encodings, val_df['sentiment'].tolist())\n"
   ]
  },
  {
   "cell_type": "markdown",
   "id": "8e4f3dc8-1477-4102-9ff9-ec57d52d229d",
   "metadata": {},
   "source": [
    "# 3. 初始参数微调 "
   ]
  },
  {
   "cell_type": "code",
   "execution_count": 14,
   "id": "e96fd29d-dc75-4a27-8fd2-6d61b580c9ad",
   "metadata": {
    "tags": []
   },
   "outputs": [
    {
     "name": "stderr",
     "output_type": "stream",
     "text": [
      "loading configuration file config.json from cache at C:\\Users\\1/.cache\\huggingface\\hub\\models--distilbert-base-uncased\\snapshots\\1c4513b2eedbda136f57676a34eea67aba266e5c\\config.json\n",
      "Model config DistilBertConfig {\n",
      "  \"activation\": \"gelu\",\n",
      "  \"architectures\": [\n",
      "    \"DistilBertForMaskedLM\"\n",
      "  ],\n",
      "  \"attention_dropout\": 0.1,\n",
      "  \"dim\": 768,\n",
      "  \"dropout\": 0.1,\n",
      "  \"hidden_dim\": 3072,\n",
      "  \"initializer_range\": 0.02,\n",
      "  \"max_position_embeddings\": 512,\n",
      "  \"model_type\": \"distilbert\",\n",
      "  \"n_heads\": 12,\n",
      "  \"n_layers\": 6,\n",
      "  \"pad_token_id\": 0,\n",
      "  \"qa_dropout\": 0.1,\n",
      "  \"seq_classif_dropout\": 0.2,\n",
      "  \"sinusoidal_pos_embds\": false,\n",
      "  \"tie_weights_\": true,\n",
      "  \"transformers_version\": \"4.24.0\",\n",
      "  \"vocab_size\": 30522\n",
      "}\n",
      "\n",
      "loading weights file pytorch_model.bin from cache at C:\\Users\\1/.cache\\huggingface\\hub\\models--distilbert-base-uncased\\snapshots\\1c4513b2eedbda136f57676a34eea67aba266e5c\\pytorch_model.bin\n",
      "Some weights of the model checkpoint at distilbert-base-uncased were not used when initializing DistilBertForSequenceClassification: ['vocab_layer_norm.bias', 'vocab_projector.bias', 'vocab_projector.weight', 'vocab_transform.bias', 'vocab_transform.weight', 'vocab_layer_norm.weight']\n",
      "- This IS expected if you are initializing DistilBertForSequenceClassification from the checkpoint of a model trained on another task or with another architecture (e.g. initializing a BertForSequenceClassification model from a BertForPreTraining model).\n",
      "- This IS NOT expected if you are initializing DistilBertForSequenceClassification from the checkpoint of a model that you expect to be exactly identical (initializing a BertForSequenceClassification model from a BertForSequenceClassification model).\n",
      "Some weights of DistilBertForSequenceClassification were not initialized from the model checkpoint at distilbert-base-uncased and are newly initialized: ['classifier.bias', 'pre_classifier.weight', 'classifier.weight', 'pre_classifier.bias']\n",
      "You should probably TRAIN this model on a down-stream task to be able to use it for predictions and inference.\n",
      "PyTorch: setting up devices\n",
      "The default value for the training argument `--report_to` will change in v5 (from all installed integrations to none). In v5, you will need to use `--report_to all` to get the same behavior as now. You should start updating your code and make this info disappear :-).\n",
      "***** Running training *****\n",
      "  Num examples = 2848\n",
      "  Num Epochs = 10\n",
      "  Instantaneous batch size per device = 32\n",
      "  Total train batch size (w. parallel, distributed & accumulation) = 32\n",
      "  Gradient Accumulation steps = 1\n",
      "  Total optimization steps = 890\n",
      "  Number of trainable parameters = 66955010\n"
     ]
    },
    {
     "data": {
      "text/html": [
       "\n",
       "    <div>\n",
       "      \n",
       "      <progress value='890' max='890' style='width:300px; height:20px; vertical-align: middle;'></progress>\n",
       "      [890/890 10:57, Epoch 10/10]\n",
       "    </div>\n",
       "    <table border=\"1\" class=\"dataframe\">\n",
       "  <thead>\n",
       " <tr style=\"text-align: left;\">\n",
       "      <th>Step</th>\n",
       "      <th>Training Loss</th>\n",
       "      <th>Validation Loss</th>\n",
       "    </tr>\n",
       "  </thead>\n",
       "  <tbody>\n",
       "    <tr>\n",
       "      <td>100</td>\n",
       "      <td>0.414100</td>\n",
       "      <td>0.346926</td>\n",
       "    </tr>\n",
       "    <tr>\n",
       "      <td>200</td>\n",
       "      <td>0.305400</td>\n",
       "      <td>0.331076</td>\n",
       "    </tr>\n",
       "    <tr>\n",
       "      <td>300</td>\n",
       "      <td>0.257700</td>\n",
       "      <td>0.327422</td>\n",
       "    </tr>\n",
       "    <tr>\n",
       "      <td>400</td>\n",
       "      <td>0.284100</td>\n",
       "      <td>0.338233</td>\n",
       "    </tr>\n",
       "    <tr>\n",
       "      <td>500</td>\n",
       "      <td>0.218300</td>\n",
       "      <td>0.331523</td>\n",
       "    </tr>\n",
       "    <tr>\n",
       "      <td>600</td>\n",
       "      <td>0.152100</td>\n",
       "      <td>0.366274</td>\n",
       "    </tr>\n",
       "    <tr>\n",
       "      <td>700</td>\n",
       "      <td>0.091200</td>\n",
       "      <td>0.431159</td>\n",
       "    </tr>\n",
       "    <tr>\n",
       "      <td>800</td>\n",
       "      <td>0.063100</td>\n",
       "      <td>0.523039</td>\n",
       "    </tr>\n",
       "  </tbody>\n",
       "</table><p>"
      ],
      "text/plain": [
       "<IPython.core.display.HTML object>"
      ]
     },
     "metadata": {},
     "output_type": "display_data"
    },
    {
     "name": "stderr",
     "output_type": "stream",
     "text": [
      "***** Running Evaluation *****\n",
      "  Num examples = 712\n",
      "  Batch size = 32\n",
      "***** Running Evaluation *****\n",
      "  Num examples = 712\n",
      "  Batch size = 32\n",
      "***** Running Evaluation *****\n",
      "  Num examples = 712\n",
      "  Batch size = 32\n",
      "***** Running Evaluation *****\n",
      "  Num examples = 712\n",
      "  Batch size = 32\n",
      "***** Running Evaluation *****\n",
      "  Num examples = 712\n",
      "  Batch size = 32\n",
      "Saving model checkpoint to ./results\\checkpoint-500\n",
      "Configuration saved in ./results\\checkpoint-500\\config.json\n",
      "Model weights saved in ./results\\checkpoint-500\\pytorch_model.bin\n",
      "***** Running Evaluation *****\n",
      "  Num examples = 712\n",
      "  Batch size = 32\n",
      "***** Running Evaluation *****\n",
      "  Num examples = 712\n",
      "  Batch size = 32\n",
      "***** Running Evaluation *****\n",
      "  Num examples = 712\n",
      "  Batch size = 32\n",
      "\n",
      "\n",
      "Training completed. Do not forget to share your model on huggingface.co/models =)\n",
      "\n",
      "\n",
      "Loading best model from ./results\\checkpoint-500 (score: 0.33152300119400024).\n",
      "***** Running Evaluation *****\n",
      "  Num examples = 712\n",
      "  Batch size = 32\n"
     ]
    },
    {
     "data": {
      "text/html": [
       "\n",
       "    <div>\n",
       "      \n",
       "      <progress value='23' max='23' style='width:300px; height:20px; vertical-align: middle;'></progress>\n",
       "      [23/23 00:04]\n",
       "    </div>\n",
       "    "
      ],
      "text/plain": [
       "<IPython.core.display.HTML object>"
      ]
     },
     "metadata": {},
     "output_type": "display_data"
    },
    {
     "name": "stdout",
     "output_type": "stream",
     "text": [
      "Evaluation results: {'eval_loss': 0.33152300119400024, 'eval_runtime': 4.529, 'eval_samples_per_second': 157.208, 'eval_steps_per_second': 5.078, 'epoch': 10.0}\n"
     ]
    }
   ],
   "source": [
    "from transformers import DistilBertForSequenceClassification, Trainer, TrainingArguments\n",
    "\n",
    "model_ori = DistilBertForSequenceClassification.from_pretrained('distilbert-base-uncased')\n",
    "\n",
    "# 设置训练参数\n",
    "training_args = TrainingArguments(\n",
    "    output_dir='./results',                 # 输出目录\n",
    "    num_train_epochs=10,                     # 训练的总轮数\n",
    "    per_device_train_batch_size=32,          # 每个设备的训练批次大小\n",
    "    per_device_eval_batch_size=32,           # 每个设备的评估批次大小\n",
    "    warmup_steps=500,                       # 预热步骤\n",
    "    weight_decay=0.01,                      # 权重衰减\n",
    "    logging_dir='./logs',                   # 日志目录\n",
    "    logging_steps=10,                       # 日志记录步骤\n",
    "    evaluation_strategy='steps',            # 评估策略\n",
    "    eval_steps=100,                         # 评估步骤\n",
    "    load_best_model_at_end=True,            # 训练结束时加载最佳模型\n",
    ")\n",
    "\n",
    "# 创建训练器\n",
    "trainer = Trainer(\n",
    "    model=model_ori,                           # 要微调的模型\n",
    "    args=training_args,                    # 训练参数\n",
    "    train_dataset=train_dataset,           # 训练数据集\n",
    "    eval_dataset=val_dataset,              # 评估数据集\n",
    ")\n",
    "\n",
    "# 微调模型\n",
    "trainer.train()\n",
    "eval_result = trainer.evaluate()\n",
    "print(\"Evaluation results:\", eval_result)\n",
    "\n",
    "# # 保存模型和分词器\n",
    "# model.save_pretrained(\"saved_model_directory\")\n",
    "# tokenizer.save_pretrained(\"saved_model_directory\")\n"
   ]
  },
  {
   "cell_type": "code",
   "execution_count": 37,
   "id": "35060fc1-2762-4bea-8b21-1cce05bf006f",
   "metadata": {},
   "outputs": [],
   "source": [
    "import torch\n",
    "\n",
    "class SentimentDataset(torch.utils.data.Dataset):\n",
    "    def __init__(self, encodings, labels):\n",
    "        self.encodings = encodings\n",
    "        self.labels = labels\n",
    "\n",
    "    def __getitem__(self, idx):\n",
    "        item = {key: torch.tensor(val[idx]) for key, val in self.encodings.items()}\n",
    "        item['labels'] = torch.tensor(self.labels[idx])\n",
    "        return item\n",
    "\n",
    "    def __len__(self):\n",
    "        return len(self.labels)\n",
    "\n",
    "train_dataset = SentimentDataset(train_encodings, train_df['sentiment'].tolist())\n",
    "val_dataset = SentimentDataset(val_encodings, val_df['sentiment'].tolist())\n"
   ]
  },
  {
   "cell_type": "code",
   "execution_count": 108,
   "id": "12358cda-9e0d-4934-8b03-3db45fc64fb9",
   "metadata": {
    "collapsed": true,
    "jupyter": {
     "outputs_hidden": true
    },
    "tags": []
   },
   "outputs": [
    {
     "name": "stderr",
     "output_type": "stream",
     "text": [
      "PyTorch: setting up devices\n",
      "The default value for the training argument `--report_to` will change in v5 (from all installed integrations to none). In v5, you will need to use `--report_to all` to get the same behavior as now. You should start updating your code and make this info disappear :-).\n",
      "loading configuration file config.json from cache at C:\\Users\\1/.cache\\huggingface\\hub\\models--distilbert-base-uncased\\snapshots\\1c4513b2eedbda136f57676a34eea67aba266e5c\\config.json\n",
      "Model config DistilBertConfig {\n",
      "  \"activation\": \"gelu\",\n",
      "  \"architectures\": [\n",
      "    \"DistilBertForMaskedLM\"\n",
      "  ],\n",
      "  \"attention_dropout\": 0.1,\n",
      "  \"dim\": 768,\n",
      "  \"dropout\": 0.1,\n",
      "  \"hidden_dim\": 3072,\n",
      "  \"initializer_range\": 0.02,\n",
      "  \"max_position_embeddings\": 512,\n",
      "  \"model_type\": \"distilbert\",\n",
      "  \"n_heads\": 12,\n",
      "  \"n_layers\": 6,\n",
      "  \"pad_token_id\": 0,\n",
      "  \"qa_dropout\": 0.1,\n",
      "  \"seq_classif_dropout\": 0.2,\n",
      "  \"sinusoidal_pos_embds\": false,\n",
      "  \"tie_weights_\": true,\n",
      "  \"transformers_version\": \"4.24.0\",\n",
      "  \"vocab_size\": 30522\n",
      "}\n",
      "\n",
      "loading weights file pytorch_model.bin from cache at C:\\Users\\1/.cache\\huggingface\\hub\\models--distilbert-base-uncased\\snapshots\\1c4513b2eedbda136f57676a34eea67aba266e5c\\pytorch_model.bin\n",
      "Some weights of the model checkpoint at distilbert-base-uncased were not used when initializing DistilBertForSequenceClassification: ['vocab_transform.weight', 'vocab_projector.weight', 'vocab_layer_norm.weight', 'vocab_transform.bias', 'vocab_projector.bias', 'vocab_layer_norm.bias']\n",
      "- This IS expected if you are initializing DistilBertForSequenceClassification from the checkpoint of a model trained on another task or with another architecture (e.g. initializing a BertForSequenceClassification model from a BertForPreTraining model).\n",
      "- This IS NOT expected if you are initializing DistilBertForSequenceClassification from the checkpoint of a model that you expect to be exactly identical (initializing a BertForSequenceClassification model from a BertForSequenceClassification model).\n",
      "Some weights of DistilBertForSequenceClassification were not initialized from the model checkpoint at distilbert-base-uncased and are newly initialized: ['classifier.bias', 'pre_classifier.weight', 'classifier.weight', 'pre_classifier.bias']\n",
      "You should probably TRAIN this model on a down-stream task to be able to use it for predictions and inference.\n",
      "loading file vocab.txt from cache at C:\\Users\\1/.cache\\huggingface\\hub\\models--distilbert-base-uncased\\snapshots\\1c4513b2eedbda136f57676a34eea67aba266e5c\\vocab.txt\n",
      "loading file tokenizer.json from cache at C:\\Users\\1/.cache\\huggingface\\hub\\models--distilbert-base-uncased\\snapshots\\1c4513b2eedbda136f57676a34eea67aba266e5c\\tokenizer.json\n",
      "loading file added_tokens.json from cache at None\n",
      "loading file special_tokens_map.json from cache at None\n",
      "loading file tokenizer_config.json from cache at C:\\Users\\1/.cache\\huggingface\\hub\\models--distilbert-base-uncased\\snapshots\\1c4513b2eedbda136f57676a34eea67aba266e5c\\tokenizer_config.json\n",
      "loading configuration file config.json from cache at C:\\Users\\1/.cache\\huggingface\\hub\\models--distilbert-base-uncased\\snapshots\\1c4513b2eedbda136f57676a34eea67aba266e5c\\config.json\n",
      "Model config DistilBertConfig {\n",
      "  \"_name_or_path\": \"distilbert-base-uncased\",\n",
      "  \"activation\": \"gelu\",\n",
      "  \"architectures\": [\n",
      "    \"DistilBertForMaskedLM\"\n",
      "  ],\n",
      "  \"attention_dropout\": 0.1,\n",
      "  \"dim\": 768,\n",
      "  \"dropout\": 0.1,\n",
      "  \"hidden_dim\": 3072,\n",
      "  \"initializer_range\": 0.02,\n",
      "  \"max_position_embeddings\": 512,\n",
      "  \"model_type\": \"distilbert\",\n",
      "  \"n_heads\": 12,\n",
      "  \"n_layers\": 6,\n",
      "  \"pad_token_id\": 0,\n",
      "  \"qa_dropout\": 0.1,\n",
      "  \"seq_classif_dropout\": 0.2,\n",
      "  \"sinusoidal_pos_embds\": false,\n",
      "  \"tie_weights_\": true,\n",
      "  \"transformers_version\": \"4.24.0\",\n",
      "  \"vocab_size\": 30522\n",
      "}\n",
      "\n",
      "***** Running training *****\n",
      "  Num examples = 2848\n",
      "  Num Epochs = 5\n",
      "  Instantaneous batch size per device = 16\n",
      "  Total train batch size (w. parallel, distributed & accumulation) = 16\n",
      "  Gradient Accumulation steps = 1\n",
      "  Total optimization steps = 890\n",
      "  Number of trainable parameters = 66955010\n"
     ]
    },
    {
     "data": {
      "text/html": [
       "\n",
       "    <div>\n",
       "      \n",
       "      <progress value='890' max='890' style='width:300px; height:20px; vertical-align: middle;'></progress>\n",
       "      [890/890 07:51, Epoch 5/5]\n",
       "    </div>\n",
       "    <table border=\"1\" class=\"dataframe\">\n",
       "  <thead>\n",
       " <tr style=\"text-align: left;\">\n",
       "      <th>Step</th>\n",
       "      <th>Training Loss</th>\n",
       "      <th>Validation Loss</th>\n",
       "    </tr>\n",
       "  </thead>\n",
       "  <tbody>\n",
       "    <tr>\n",
       "      <td>100</td>\n",
       "      <td>0.326100</td>\n",
       "      <td>0.350732</td>\n",
       "    </tr>\n",
       "    <tr>\n",
       "      <td>200</td>\n",
       "      <td>0.405300</td>\n",
       "      <td>0.329657</td>\n",
       "    </tr>\n",
       "    <tr>\n",
       "      <td>300</td>\n",
       "      <td>0.341200</td>\n",
       "      <td>0.320315</td>\n",
       "    </tr>\n",
       "    <tr>\n",
       "      <td>400</td>\n",
       "      <td>0.337900</td>\n",
       "      <td>0.306652</td>\n",
       "    </tr>\n",
       "    <tr>\n",
       "      <td>500</td>\n",
       "      <td>0.248200</td>\n",
       "      <td>0.322431</td>\n",
       "    </tr>\n",
       "    <tr>\n",
       "      <td>600</td>\n",
       "      <td>0.225900</td>\n",
       "      <td>0.370387</td>\n",
       "    </tr>\n",
       "    <tr>\n",
       "      <td>700</td>\n",
       "      <td>0.233800</td>\n",
       "      <td>0.349566</td>\n",
       "    </tr>\n",
       "    <tr>\n",
       "      <td>800</td>\n",
       "      <td>0.233800</td>\n",
       "      <td>0.427196</td>\n",
       "    </tr>\n",
       "  </tbody>\n",
       "</table><p>"
      ],
      "text/plain": [
       "<IPython.core.display.HTML object>"
      ]
     },
     "metadata": {},
     "output_type": "display_data"
    },
    {
     "name": "stderr",
     "output_type": "stream",
     "text": [
      "***** Running Evaluation *****\n",
      "  Num examples = 712\n",
      "  Batch size = 16\n",
      "***** Running Evaluation *****\n",
      "  Num examples = 712\n",
      "  Batch size = 16\n",
      "***** Running Evaluation *****\n",
      "  Num examples = 712\n",
      "  Batch size = 16\n",
      "***** Running Evaluation *****\n",
      "  Num examples = 712\n",
      "  Batch size = 16\n",
      "***** Running Evaluation *****\n",
      "  Num examples = 712\n",
      "  Batch size = 16\n",
      "Saving model checkpoint to ./results-1681870503\\checkpoint-500\n",
      "Configuration saved in ./results-1681870503\\checkpoint-500\\config.json\n",
      "Model weights saved in ./results-1681870503\\checkpoint-500\\pytorch_model.bin\n",
      "***** Running Evaluation *****\n",
      "  Num examples = 712\n",
      "  Batch size = 16\n",
      "***** Running Evaluation *****\n",
      "  Num examples = 712\n",
      "  Batch size = 16\n",
      "***** Running Evaluation *****\n",
      "  Num examples = 712\n",
      "  Batch size = 16\n",
      "\n",
      "\n",
      "Training completed. Do not forget to share your model on huggingface.co/models =)\n",
      "\n",
      "\n",
      "Loading best model from ./results-1681870503\\checkpoint-500 (score: 0.32243070006370544).\n"
     ]
    },
    {
     "data": {
      "text/plain": [
       "TrainOutput(global_step=890, training_loss=0.3180589532584287, metrics={'train_runtime': 472.2001, 'train_samples_per_second': 30.157, 'train_steps_per_second': 1.885, 'total_flos': 1455278562422400.0, 'train_loss': 0.3180589532584287, 'epoch': 5.0})"
      ]
     },
     "execution_count": 108,
     "metadata": {},
     "output_type": "execute_result"
    }
   ],
   "source": [
    "# import time\n",
    "\n",
    "# output_dir = f'./results-{int(time.time())}'\n",
    "\n",
    "# training_args = TrainingArguments(\n",
    "#     output_dir=output_dir,                 # 使用包含时间戳的唯一输出目录\n",
    "#     num_train_epochs=5,                    # 增加训练轮数\n",
    "#     per_device_train_batch_size=16,        # 更改训练批次大小\n",
    "#     per_device_eval_batch_size=16,         # 更改评估批次大小\n",
    "#     warmup_steps=800,                      # 增加预热步骤\n",
    "#     weight_decay=0.02,                     # 调整权重衰减\n",
    "#     logging_dir='./logs',                  # 日志目录\n",
    "#     logging_steps=10,                      # 日志记录步骤\n",
    "#     evaluation_strategy='steps',           # 评估策略\n",
    "#     eval_steps=100,                        # 评估步骤\n",
    "#     load_best_model_at_end=True,           # 训练结束时加载最佳模型\n",
    "# )\n",
    "\n",
    "# # 初始化模型和分词器\n",
    "# model = DistilBertForSequenceClassification.from_pretrained('distilbert-base-uncased', num_labels=2)\n",
    "# tokenizer = DistilBertTokenizerFast.from_pretrained('distilbert-base-uncased')\n",
    "\n",
    "# # 使用新的参数训练模型\n",
    "# trainer_1 = Trainer(\n",
    "#     model=model,\n",
    "#     args=training_args,\n",
    "#     train_dataset=train_dataset,\n",
    "#     eval_dataset=val_dataset,              # 评估数据集\n",
    "# )\n",
    "\n",
    "# # 微调模型\n",
    "# trainer_1.train()"
   ]
  },
  {
   "cell_type": "markdown",
   "id": "effb99c7-a686-4cd6-af3c-d4b45a0886b2",
   "metadata": {},
   "source": [
    "# 测试模型"
   ]
  },
  {
   "cell_type": "code",
   "execution_count": 29,
   "id": "e9df8b79-52e7-41bd-b9ab-f70acf61ad9d",
   "metadata": {},
   "outputs": [
    {
     "name": "stdout",
     "output_type": "stream",
     "text": [
      "Sentiment predictions: [1, 0]\n"
     ]
    }
   ],
   "source": [
    "new_texts = ['人福医药：布洛芬作为常用解热镇痛药，是公司众多医药产品之一','汉口银行延迟披露2019年报 未经审计的不良贷款率达1.75%']\n",
    "\n",
    "def predict_sentiment(texts, model, tokenizer):\n",
    "    # 确保模型在正确的设备上\n",
    "    device = torch.device('cuda' if torch.cuda.is_available() else 'cpu')\n",
    "    model.to(device)\n",
    "\n",
    "    inputs = tokenizer(texts, padding=True, truncation=True, return_tensors='pt')\n",
    "    inputs = inputs.to(device)  # 将输入数据移动到相同的设备\n",
    "\n",
    "    with torch.no_grad():\n",
    "        outputs = model(**inputs)\n",
    "        logits = outputs.logits\n",
    "        preds = torch.argmax(logits, dim=1)\n",
    "        \n",
    "    return preds.tolist()\n",
    "\n",
    "sentiment_predictions = predict_sentiment(new_texts, model_ori, tokenizer)\n",
    "print(\"Sentiment predictions:\", sentiment_predictions)\n"
   ]
  },
  {
   "cell_type": "code",
   "execution_count": 20,
   "id": "c5180891-e370-4a26-9f25-5f23c45263d9",
   "metadata": {},
   "outputs": [],
   "source": [
    "from torch.utils.data import DataLoader\n",
    "def get_predictions(model, tokenizer, dataset, device=\"cuda\"):\n",
    "    model.to(device)\n",
    "    model.eval()\n",
    "\n",
    "    dataloader = DataLoader(dataset, batch_size=8, shuffle=False)\n",
    "    predictions = []\n",
    "\n",
    "    with torch.no_grad():\n",
    "        for batch in dataloader:\n",
    "            inputs = {k: v.to(device) for k, v in batch.items() if k != \"labels\"}\n",
    "            outputs = model(**inputs)\n",
    "            logits = outputs.logits\n",
    "            preds = torch.argmax(logits, dim=1).tolist()\n",
    "            predictions.extend(preds)\n",
    "\n",
    "    return predictions\n"
   ]
  },
  {
   "cell_type": "code",
   "execution_count": 22,
   "id": "7b7ced8e-2ea7-4dba-828e-997aec0e58be",
   "metadata": {},
   "outputs": [
    {
     "name": "stderr",
     "output_type": "stream",
     "text": [
      "C:\\Users\\1\\AppData\\Local\\Temp\\ipykernel_3280\\3442899734.py:5: FutureWarning: load_metric is deprecated and will be removed in the next major version of datasets. Use 'evaluate.load' instead, from the new library 🤗 Evaluate: https://huggingface.co/docs/evaluate\n",
      "  metric = load_metric(\"accuracy\")\n"
     ]
    }
   ],
   "source": [
    "\n",
    "import numpy as np\n",
    "from datasets import load_metric\n",
    "from sklearn.metrics import accuracy_score\n",
    "\n",
    "metric = load_metric(\"accuracy\")"
   ]
  },
  {
   "cell_type": "markdown",
   "id": "659916cd-7f1d-429d-9f37-e4fc27895a53",
   "metadata": {},
   "source": [
    "# 2.测试准确率"
   ]
  },
  {
   "cell_type": "code",
   "execution_count": 38,
   "id": "fd9f2f57-6a73-4a99-925b-fc30a473e4e8",
   "metadata": {},
   "outputs": [
    {
     "ename": "SyntaxError",
     "evalue": "unexpected EOF while parsing (2378483863.py, line 20)",
     "output_type": "error",
     "traceback": [
      "\u001b[1;36m  Cell \u001b[1;32mIn[38], line 20\u001b[1;36m\u001b[0m\n\u001b[1;33m    \u001b[0m\n\u001b[1;37m    ^\u001b[0m\n\u001b[1;31mSyntaxError\u001b[0m\u001b[1;31m:\u001b[0m unexpected EOF while parsing\n"
     ]
    }
   ],
   "source": [
    "\n",
    "   \n"
   ]
  },
  {
   "cell_type": "code",
   "execution_count": 23,
   "id": "8b2c4431-e9d7-4316-a642-9a47d4c2c0e6",
   "metadata": {},
   "outputs": [
    {
     "name": "stdout",
     "output_type": "stream",
     "text": [
      "Training accuracy: {'accuracy': 0.9287219101123596}\n",
      "Evaluation accuracy: {'accuracy': 0.8918539325842697}\n"
     ]
    }
   ],
   "source": [
    "\n",
    "train_preds = get_predictions(model_ori, tokenizer, train_dataset)\n",
    "eval_preds = get_predictions(model_ori, tokenizer, val_dataset)\n",
    "\n",
    "train_accuracy = metric.compute(predictions=train_preds, references=train_dataset[:][\"labels\"])\n",
    "eval_accuracy = metric.compute(predictions=eval_preds, references=val_dataset[:][\"labels\"])\n",
    "print(\"Training accuracy:\", train_accuracy)\n",
    "print(\"Evaluation accuracy:\", eval_accuracy)\n"
   ]
  },
  {
   "cell_type": "markdown",
   "id": "85c423e0-7da6-4748-9a85-12b43e046c5a",
   "metadata": {},
   "source": [
    "### 3.保存模型"
   ]
  },
  {
   "cell_type": "code",
   "execution_count": 25,
   "id": "b6ffe1a5-9482-4679-92b8-ca3d4a67b60d",
   "metadata": {},
   "outputs": [
    {
     "name": "stderr",
     "output_type": "stream",
     "text": [
      "Configuration saved in saved_model_directory_2\\config.json\n",
      "Model weights saved in saved_model_directory_2\\pytorch_model.bin\n",
      "tokenizer config file saved in saved_model_directory_2\\tokenizer_config.json\n",
      "Special tokens file saved in saved_model_directory_2\\special_tokens_map.json\n"
     ]
    },
    {
     "data": {
      "text/plain": [
       "('saved_model_directory_2\\\\tokenizer_config.json',\n",
       " 'saved_model_directory_2\\\\special_tokens_map.json',\n",
       " 'saved_model_directory_2\\\\vocab.txt',\n",
       " 'saved_model_directory_2\\\\added_tokens.json',\n",
       " 'saved_model_directory_2\\\\tokenizer.json')"
      ]
     },
     "execution_count": 25,
     "metadata": {},
     "output_type": "execute_result"
    }
   ],
   "source": [
    "# 保存模型和分词器\n",
    "model_ori.save_pretrained(\"saved_model_directory_2\")\n",
    "tokenizer.save_pretrained(\"saved_model_directory_2\")"
   ]
  },
  {
   "cell_type": "markdown",
   "id": "e4b0de9c-05e1-4994-bc3e-4f30424ce45f",
   "metadata": {},
   "source": [
    "#### 4.加载模型"
   ]
  },
  {
   "cell_type": "code",
   "execution_count": 30,
   "id": "ff58a9bd-31f3-4939-ae95-549f716b59fe",
   "metadata": {},
   "outputs": [
    {
     "name": "stderr",
     "output_type": "stream",
     "text": [
      "loading configuration file saved_model_directory_2\\config.json\n",
      "Model config DistilBertConfig {\n",
      "  \"_name_or_path\": \"distilbert-base-uncased\",\n",
      "  \"activation\": \"gelu\",\n",
      "  \"architectures\": [\n",
      "    \"DistilBertForSequenceClassification\"\n",
      "  ],\n",
      "  \"attention_dropout\": 0.1,\n",
      "  \"dim\": 768,\n",
      "  \"dropout\": 0.1,\n",
      "  \"hidden_dim\": 3072,\n",
      "  \"initializer_range\": 0.02,\n",
      "  \"max_position_embeddings\": 512,\n",
      "  \"model_type\": \"distilbert\",\n",
      "  \"n_heads\": 12,\n",
      "  \"n_layers\": 6,\n",
      "  \"pad_token_id\": 0,\n",
      "  \"problem_type\": \"single_label_classification\",\n",
      "  \"qa_dropout\": 0.1,\n",
      "  \"seq_classif_dropout\": 0.2,\n",
      "  \"sinusoidal_pos_embds\": false,\n",
      "  \"tie_weights_\": true,\n",
      "  \"torch_dtype\": \"float32\",\n",
      "  \"transformers_version\": \"4.24.0\",\n",
      "  \"vocab_size\": 30522\n",
      "}\n",
      "\n",
      "loading weights file saved_model_directory_2\\pytorch_model.bin\n",
      "All model checkpoint weights were used when initializing DistilBertForSequenceClassification.\n",
      "\n",
      "All the weights of DistilBertForSequenceClassification were initialized from the model checkpoint at saved_model_directory_2.\n",
      "If your task is similar to the task the model of the checkpoint was trained on, you can already use DistilBertForSequenceClassification for predictions without further training.\n",
      "loading file vocab.txt\n",
      "loading file tokenizer.json\n",
      "loading file added_tokens.json\n",
      "loading file special_tokens_map.json\n",
      "loading file tokenizer_config.json\n"
     ]
    }
   ],
   "source": [
    "from transformers import DistilBertForSequenceClassification, DistilBertTokenizerFast\n",
    "\n",
    "# 加载模型和分词器\n",
    "loaded_model = DistilBertForSequenceClassification.from_pretrained(\"saved_model_directory_2\")\n",
    "loaded_tokenizer = DistilBertTokenizerFast.from_pretrained(\"saved_model_directory_2\")\n"
   ]
  },
  {
   "cell_type": "code",
   "execution_count": 31,
   "id": "3e98c8fb-90b8-4a89-95d0-b93254464ff3",
   "metadata": {},
   "outputs": [
    {
     "name": "stdout",
     "output_type": "stream",
     "text": [
      "Sentiment predictions: [1, 0]\n"
     ]
    }
   ],
   "source": [
    "sentiment_predictions = predict_sentiment(new_texts, loaded_model, loaded_tokenizer)\n",
    "print(\"Sentiment predictions:\", sentiment_predictions)"
   ]
  },
  {
   "cell_type": "code",
   "execution_count": null,
   "id": "3dadc7b6-4cb2-4e05-bb24-c6556b64d2cc",
   "metadata": {},
   "outputs": [],
   "source": []
  }
 ],
 "metadata": {
  "kernelspec": {
   "display_name": "pyg",
   "language": "python",
   "name": "pyg"
  },
  "language_info": {
   "codemirror_mode": {
    "name": "ipython",
    "version": 3
   },
   "file_extension": ".py",
   "mimetype": "text/x-python",
   "name": "python",
   "nbconvert_exporter": "python",
   "pygments_lexer": "ipython3",
   "version": "3.9.16"
  }
 },
 "nbformat": 4,
 "nbformat_minor": 5
}
